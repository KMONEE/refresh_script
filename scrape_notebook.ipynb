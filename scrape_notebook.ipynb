{
 "cells": [
  {
   "cell_type": "code",
   "execution_count": 7,
   "metadata": {},
   "outputs": [],
   "source": [
    "import pandas as pd\n",
    "import numpy as np\n",
    "import json\n",
    "import cloudscraper\n",
    "import time\n",
    "import ast\n",
    "import dropbox"
   ]
  },
  {
   "cell_type": "code",
   "execution_count": 19,
   "metadata": {},
   "outputs": [
    {
     "data": {
      "text/plain": [
       "DeleteResult(metadata=FileMetadata(client_modified=datetime.datetime(2022, 1, 25, 20, 36, 28), content_hash='0772dfa1d7aa82c2d05bda5d8f732c268fbb97b9e951aaeeeda5a1a19408c5e1', export_info=NOT_SET, file_lock_info=NOT_SET, has_explicit_shared_members=NOT_SET, id='id:vkl69eWUKy4AAAAAAAAABw', is_downloadable=True, media_info=NOT_SET, name='egg_nfts.csv', parent_shared_folder_id=NOT_SET, path_display='/Levana/egg_nfts.csv', path_lower='/levana/egg_nfts.csv', property_groups=NOT_SET, rev='5d66e0a2525c98e05f701', server_modified=datetime.datetime(2022, 1, 25, 20, 36, 28), sharing_info=NOT_SET, size=3302729, symlink_info=NOT_SET))"
      ]
     },
     "execution_count": 19,
     "metadata": {},
     "output_type": "execute_result"
    }
   ],
   "source": [
    "#dropbox token\n",
    "#sl.BAym3v11cFXmq4IBm2j1Sd4lC0CuQQNFPEffA0SqtTcupFjmwGgOS9LSr-y4q6RVQcDmLXiXmTl8X7tlqhFd91f7FeB5CxqdCYeC0Wt7GGJ7I2NBiaY02bQkWKC1c8-uUQRbJmt0c9M\n",
    "dbx = dropbox.Dropbox('sl.BAym3v11cFXmq4IBm2j1Sd4lC0CuQQNFPEffA0SqtTcupFjmwGgOS9LSr-y4q6RVQcDmLXiXmTl8X7tlqhFd91f7FeB5CxqdCYeC0Wt7GGJ7I2NBiaY02bQkWKC1c8-uUQRbJmt0c9M')\n",
    "dbx.files_delete_v2(r'/Levana/egg_nfts.csv')\n",
    "\n",
    "\n",
    "#https://www.dropbox.com/s/ngnrkibfu1ggm1z/egg_nfts.csv?dl=0"
   ]
  },
  {
   "cell_type": "code",
   "execution_count": 1,
   "metadata": {},
   "outputs": [],
   "source": [
    "def scrape_new(collection_address, csv_name):\n",
    "    scraper = cloudscraper.create_scraper()\n",
    "    max_page = json.loads(scraper.get(f\"https://randomearth.io/api/items?collection_addr={collection_address}&page=99999\").text)['pages']\n",
    "    for page in range(1, max_page+1):\n",
    "        counter = 0\n",
    "        while counter != 1:\n",
    "            try:\n",
    "                #pd.read_csv(f'{csv_name}.csv')\n",
    "                page_data = scraper.get(f\"https://randomearth.io/api/items?collection_addr={collection_address}&page={page}\").text\n",
    "                \n",
    "                #pd.DataFrame.from_dict(json.loads(page_data)['items'])\n",
    "\n",
    "                final_df = pd.concat([pd.read_csv(f'{csv_name}.csv'), pd.DataFrame.from_dict(json.loads(page_data)['items'])])\n",
    "                final_df.to_csv(f'{csv_name}.csv', index=False)\n",
    "                time.sleep(.20) #yeah yeah it's not efficient, sue me!\n",
    "                counter += 1\n",
    "            except Exception as e:\n",
    "                print(page)\n",
    "                time.sleep(3)\n",
    "                pass"
   ]
  },
  {
   "cell_type": "code",
   "execution_count": 2,
   "metadata": {},
   "outputs": [],
   "source": [
    "collections = {\n",
    "    'terra1k0y373yxqne22pc9g7jvnr4qclpsxtafevtrpg':'egg_nfts',\n",
    "    'terra1vhuyuwwr4rkdpez5f5lmuqavut28h5dt29rpn6':'nested_egg_nfts',\n",
    "    'terra14gfnxnwl0yz6njzet4n33erq5n70wt79nm24el':'loot_nfts',\n",
    "    'terra1chrdxaef0y2feynkpq63mve0sqeg09acjnp55v':'meteor_nfts',\n",
    "    'terra1p70x7jkqhf37qa7qm4v23g4u4g8ka4ktxudxa7':'meteor_dust_nfts'\n",
    "    }"
   ]
  },
  {
   "cell_type": "code",
   "execution_count": null,
   "metadata": {},
   "outputs": [],
   "source": [
    "for address, file_name in collections.items():\n",
    "    new_df = pd.read_csv('headers.csv')\n",
    "    new_df.to_csv(f'{file_name}.csv', index=False)\n",
    "    scrape_new(address, file_name)"
   ]
  }
 ],
 "metadata": {
  "interpreter": {
   "hash": "2be5faf79681da6f2a61fdfdd5405d65d042280f7fba6178067603e3a2925119"
  },
  "kernelspec": {
   "display_name": "Python 3.10.0 64-bit",
   "language": "python",
   "name": "python3"
  },
  "language_info": {
   "codemirror_mode": {
    "name": "ipython",
    "version": 3
   },
   "file_extension": ".py",
   "mimetype": "text/x-python",
   "name": "python",
   "nbconvert_exporter": "python",
   "pygments_lexer": "ipython3",
   "version": "3.10.0"
  },
  "orig_nbformat": 4
 },
 "nbformat": 4,
 "nbformat_minor": 2
}
